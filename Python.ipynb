{
  "nbformat": 4,
  "nbformat_minor": 0,
  "metadata": {
    "colab": {
      "provenance": [],
      "toc_visible": true,
      "authorship_tag": "ABX9TyP/ue5I76fqYABQ7crgqayf",
      "include_colab_link": true
    },
    "kernelspec": {
      "name": "python3",
      "display_name": "Python 3"
    },
    "language_info": {
      "name": "python"
    }
  },
  "cells": [
    {
      "cell_type": "markdown",
      "metadata": {
        "id": "view-in-github",
        "colab_type": "text"
      },
      "source": [
        "<a href=\"https://colab.research.google.com/github/Vishal-0405/Python/blob/main/Python.ipynb\" target=\"_parent\"><img src=\"https://colab.research.google.com/assets/colab-badge.svg\" alt=\"Open In Colab\"/></a>"
      ]
    },
    {
      "cell_type": "markdown",
      "source": [
        "# PYTHON PROGRAMMING"
      ],
      "metadata": {
        "id": "XaNs7qC35ZTL"
      }
    },
    {
      "cell_type": "markdown",
      "source": [
        "**LEAP YEAR PROGRAM**\n"
      ],
      "metadata": {
        "id": "MKpkGA6x5eeD"
      }
    },
    {
      "cell_type": "code",
      "source": [
        "year=int(input(\"Enter a year to check whether it is leap year or not? : \"))\n",
        "if (year%4==0) and (year%100!=0) or (year%400==0):\n",
        "    print(\"{0} is a leap year.\".format(year))\n",
        "else:\n",
        "    print(\"{0} is not a leap year.\".format(year))\n"
      ],
      "metadata": {
        "colab": {
          "base_uri": "https://localhost:8080/"
        },
        "id": "WtPqFeZp5qW7",
        "outputId": "75aff209-77ae-49a5-8cb5-1011bdbc7ddd"
      },
      "execution_count": null,
      "outputs": [
        {
          "output_type": "stream",
          "name": "stdout",
          "text": [
            "Enter a year to check whether it is leap year or not? : 1900\n",
            "1900 is not a leap year.\n"
          ]
        }
      ]
    },
    {
      "cell_type": "markdown",
      "source": [
        "**GREATEST OF 3 NUMBER**"
      ],
      "metadata": {
        "id": "CnSq9XPp52hP"
      }
    },
    {
      "cell_type": "code",
      "source": [
        "#Solution 1\n",
        "numbers = list(map(int, input(\"Enter three numbers separated by space: \").split()))\n",
        "greatest = max(numbers)\n",
        "print(f\"The greatest number is: {greatest}\")\n"
      ],
      "metadata": {
        "id": "5R32LGiX59em"
      },
      "execution_count": null,
      "outputs": []
    },
    {
      "cell_type": "code",
      "source": [
        "# Solution 2\n",
        "number1 = int(input(\"Enter the 1st number: \"))\n",
        "number2 = int(input(\"Enter the 2nd number: \"))\n",
        "number3 = int(input(\"Enter the 3rd number: \"))\n",
        "if (number1>number2):\n",
        "    if (number1>number3):\n",
        "        print(f\"{number1} is the greatest number of all.\")\n",
        "    else:\n",
        "        print(f\"{number3} is the greatest number of all.\")\n",
        "\n",
        "else:\n",
        "    if (number2>number3):\n",
        "        print(f\"{number2} is the greatest number of all.\")\n",
        "    else:\n",
        "        print(f\"{number3} is the greatest number of all.\")\n"
      ],
      "metadata": {
        "colab": {
          "base_uri": "https://localhost:8080/"
        },
        "id": "gHs-kLM36kN-",
        "outputId": "a105894b-351e-4954-db52-5a964f65d310"
      },
      "execution_count": null,
      "outputs": [
        {
          "output_type": "stream",
          "name": "stdout",
          "text": [
            "Enter the 1st number: 10\n",
            "Enter the 2nd number: 20\n",
            "Enter the 3rd number: 30\n",
            "30 is the greatest number of all.\n"
          ]
        }
      ]
    },
    {
      "cell_type": "code",
      "source": [
        "2#Solution 3\n",
        "number1 = int(input(\"Enter the 1st number: \"))\n",
        "number2 = int(input(\"Enter the 2nd number: \"))\n",
        "number3 = int(input(\"Enter the 3rd number: \"))\n",
        "\n",
        "if number1 == number2 == number3:\n",
        "    print(\"All three numbers are equal.\")\n",
        "elif number1 == number2 and number1 > number3:\n",
        "    print(f\"{number1} and {number2} are the greatest and equal.\")\n",
        "elif number1 == number3 and number1 > number2:\n",
        "    print(f\"{number1} and {number3} are the greatest and equal.\")\n",
        "elif number2 == number3 and number2 > number1:\n",
        "    print(f\"{number2} and {number3} are the greatest and equal.\")\n",
        "else:\n",
        "    if number1 > number2:\n",
        "        if number1 > number3:\n",
        "            print(f\"{number1} is the greatest number of all.\")\n",
        "        else:\n",
        "            print(f\"{number3} is the greatest number of all.\")\n",
        "    else:\n",
        "        if number2 > number3:\n",
        "            print(f\"{number2} is the greatest number of all.\")\n",
        "        else:\n",
        "            print(f\"{number3} is the greatest number of all.\")\n"
      ],
      "metadata": {
        "colab": {
          "base_uri": "https://localhost:8080/"
        },
        "id": "X7NYO6AM6nW6",
        "outputId": "9a6d76f7-a5ca-422f-8969-924f10206ae9"
      },
      "execution_count": null,
      "outputs": [
        {
          "output_type": "stream",
          "name": "stdout",
          "text": [
            "Enter the 1st number: 10\n",
            "Enter the 2nd number: 0\n",
            "Enter the 3rd number: 30\n",
            "30 is the greatest number of all.\n"
          ]
        }
      ]
    },
    {
      "cell_type": "markdown",
      "source": [
        "**CALCULATOR**"
      ],
      "metadata": {
        "id": "mzxpYmT06tnY"
      }
    },
    {
      "cell_type": "code",
      "source": [
        "print(\"Welcome to Basic Calculator\")\n",
        "number1=eval(input(\"Enter 1st number: \"))\n",
        "number2=eval(input(\"Enter 2nd number: \"))\n",
        "print(\"Select an option to perform operation\")\n",
        "print(\" Select 1 for Addition\\n Select 2 for Substraction\\n Select 3 for Multiplication\\n Select 4 for Division\\n Select 5 for Floor Division\\n Select 6 for Modulo\\n Select 7 for Percentage\")\n",
        "operation=int(input(\"Enter the operation code: \"))\n",
        "if (operation==1):\n",
        "    print(\"The Addition of two number is:\",number1+number2)\n",
        "elif (operation==2):\n",
        "    print(\"The Substration value of two number is:\",number1-number2)\n",
        "elif (operation==3):\n",
        "    print(\"The Multiplication value of two number is\",number1*number2)\n",
        "elif (operation==4):\n",
        "    print(\"The Division value of two number is\",number1/number2)\n",
        "elif (operation==5):\n",
        "    print(\"The Division value of two number is\",number1//number2)\n",
        "elif (operation==6):\n",
        "    print(\"The Modulo value of two number is\",number1%number2)\n",
        "elif (operation==7):\n",
        "    print(\"The Percentage is\", ((number1/number2)*100))\n",
        "else:\n",
        "    print(\"Please select valid operation.\")"
      ],
      "metadata": {
        "colab": {
          "base_uri": "https://localhost:8080/"
        },
        "id": "y8eTpb8W60Il",
        "outputId": "5bfb88ce-1923-495c-f809-3967fd39befc"
      },
      "execution_count": null,
      "outputs": [
        {
          "output_type": "stream",
          "name": "stdout",
          "text": [
            "Welcome to Basic Calculator\n",
            "Enter 1st number: 5\n",
            "Enter 2nd number: 10\n",
            "Select an option to perform operation\n",
            " Select 1 for Addition\n",
            " Select 2 for Substraction\n",
            " Select 3 for Multiplication\n",
            " Select 4 for Division\n",
            " Select 5 for Floor Division\n",
            " Select 6 for Modulo\n",
            " Select 7 for Percentage\n",
            "Enter the operation code: 3\n",
            "The Multiplication value of two number is 50\n"
          ]
        }
      ]
    },
    {
      "cell_type": "markdown",
      "source": [
        "**MATHEMATICAL TABLE**"
      ],
      "metadata": {
        "id": "Nr6Nlo9v7Ij6"
      }
    },
    {
      "cell_type": "code",
      "source": [
        "num=int(input(\"Enter the number for which you need to generate a mathematical table: \"))\n",
        "for i in range(1,11):\n",
        "    num2=num*i\n",
        "    print(\"{0} X {1} = {2}\".format(num,i,num2))\n",
        "    i=i+1\n"
      ],
      "metadata": {
        "colab": {
          "base_uri": "https://localhost:8080/"
        },
        "id": "1V8_i2FP6-dE",
        "outputId": "1c714a0f-baee-44a0-bad1-e8f60f2ffe59"
      },
      "execution_count": null,
      "outputs": [
        {
          "output_type": "stream",
          "name": "stdout",
          "text": [
            "Enter the number for which you need to generate a mathematical table: 25\n",
            "25 X 1 = 25\n",
            "25 X 2 = 50\n",
            "25 X 3 = 75\n",
            "25 X 4 = 100\n",
            "25 X 5 = 125\n",
            "25 X 6 = 150\n",
            "25 X 7 = 175\n",
            "25 X 8 = 200\n",
            "25 X 9 = 225\n",
            "25 X 10 = 250\n"
          ]
        }
      ]
    },
    {
      "cell_type": "markdown",
      "source": [
        "**EMULATE DO_WHILE LOOP IN PYTHON**"
      ],
      "metadata": {
        "id": "FTCOK8o97NBY"
      }
    },
    {
      "cell_type": "code",
      "source": [
        "i=0\n",
        "while True:\n",
        "    print(i)\n",
        "    i=i+1\n",
        "    if (i%10==0):\n",
        "        break"
      ],
      "metadata": {
        "colab": {
          "base_uri": "https://localhost:8080/"
        },
        "id": "0pFhRgX27SKl",
        "outputId": "a7b5d576-6069-44aa-a486-57a733bb34dc"
      },
      "execution_count": null,
      "outputs": [
        {
          "output_type": "stream",
          "name": "stdout",
          "text": [
            "0\n",
            "1\n",
            "2\n",
            "3\n",
            "4\n",
            "5\n",
            "6\n",
            "7\n",
            "8\n",
            "9\n"
          ]
        }
      ]
    },
    {
      "cell_type": "markdown",
      "source": [
        "**TREASURE GAME**"
      ],
      "metadata": {
        "id": "hLCiOR_N7U2w"
      }
    },
    {
      "cell_type": "code",
      "source": [
        "print('''\n",
        "*******************************************************************************\n",
        "          |                   |                  |                     |\n",
        " _________|________________.=\"\"_;=.______________|_____________________|_______\n",
        "|                   |  ,-\"_,=\"\"     `\"=.|                  |\n",
        "|___________________|__\"=._o`\"-._        `\"=.______________|___________________\n",
        "          |                `\"=._o`\"=._      _`\"=._                     |\n",
        " _________|_____________________:=._o \"=._.\"_.-=\"'\"=.__________________|_______\n",
        "|                   |    __.--\" , ; `\"=._o.\" ,-\"\"\"-._ \".   |\n",
        "|___________________|_._\"  ,. .` ` `` ,  `\"-._\"-._   \". '__|___________________\n",
        "          |           |o`\"=._` , \"` `; .\". ,  \"-._\"-._; ;              |\n",
        " _________|___________| ;`-.o`\"=._; .\" ` '`.\"\\` . \"-._ /_______________|_______\n",
        "|                   | |o;    `\"-.o`\"=._``  '` \" ,__.--o;   |\n",
        "|___________________|_| ;     (#) `-.o `\"=.`_.--\"_o.-; ;___|___________________\n",
        "____/______/______/___|o;._    \"      `\".o|o_.--\"    ;o;____/______/______/____\n",
        "/______/______/______/_\"=._o--._        ; | ;        ; ;/______/______/______/_\n",
        "____/______/______/______/__\"=._o--._   ;o|o;     _._;o;____/______/______/____\n",
        "/______/______/______/______/____\"=._o._; | ;_.--\"o.--\"_/______/______/______/_\n",
        "____/______/______/______/______/_____\"=.o|o_.--\"\"___/______/______/______/____\n",
        "/______/______/______/______/______/______/______/______/______/______/_____ /\n",
        "*******************************************************************************\n",
        "''')\n",
        "print(\"Welcome to Treasure Island.\")\n",
        "print(\"Your mission is to find the treasure.\")\n",
        "\n",
        "direction=input(\"Do you want to go right or left? R/L\"\"\\n\")\n",
        "if (direction==\"R\")or(direction==\"r\"):\n",
        "    print(\"You fell from a mountain.\\nGAME OVER\")\n",
        "\n",
        "if (direction==\"L\") or (direction==\"l\"):\n",
        "    choice=input(\"Do you want to swim or wait? S/W\"\"\\n\")\n",
        "    if (choice==\"S\")or(choice==\"s\"):\n",
        "        print(\"You were eaten my shark.\\nGAME OVER\")\n",
        "\n",
        "    if (choice==\"W\") or (choice==\"w\"):\n",
        "        door=input(\"Which door you want choose? Yellow or Green or Red? Y/G/R\"\"\\n\")\n",
        "        if (door==\"R\") or (door==\"r\"):\n",
        "            print(\"You won the teasure.\\nYOU WIN!!!!!\")\n",
        "        else:\n",
        "            print(\"You opened the door full of Ghost.\\nGAME OVER\")\n",
        "\n"
      ],
      "metadata": {
        "colab": {
          "base_uri": "https://localhost:8080/"
        },
        "id": "86zso1d67YdH",
        "outputId": "f99dff99-08d6-4535-83d4-4e90b6af0453"
      },
      "execution_count": null,
      "outputs": [
        {
          "output_type": "stream",
          "name": "stdout",
          "text": [
            "\n",
            "*******************************************************************************\n",
            "          |                   |                  |                     |\n",
            " _________|________________.=\"\"_;=.______________|_____________________|_______\n",
            "|                   |  ,-\"_,=\"\"     `\"=.|                  |\n",
            "|___________________|__\"=._o`\"-._        `\"=.______________|___________________\n",
            "          |                `\"=._o`\"=._      _`\"=._                     |\n",
            " _________|_____________________:=._o \"=._.\"_.-=\"'\"=.__________________|_______\n",
            "|                   |    __.--\" , ; `\"=._o.\" ,-\"\"\"-._ \".   |\n",
            "|___________________|_._\"  ,. .` ` `` ,  `\"-._\"-._   \". '__|___________________\n",
            "          |           |o`\"=._` , \"` `; .\". ,  \"-._\"-._; ;              |\n",
            " _________|___________| ;`-.o`\"=._; .\" ` '`.\"\\` . \"-._ /_______________|_______\n",
            "|                   | |o;    `\"-.o`\"=._``  '` \" ,__.--o;   |\n",
            "|___________________|_| ;     (#) `-.o `\"=.`_.--\"_o.-; ;___|___________________\n",
            "____/______/______/___|o;._    \"      `\".o|o_.--\"    ;o;____/______/______/____\n",
            "/______/______/______/_\"=._o--._        ; | ;        ; ;/______/______/______/_\n",
            "____/______/______/______/__\"=._o--._   ;o|o;     _._;o;____/______/______/____\n",
            "/______/______/______/______/____\"=._o._; | ;_.--\"o.--\"_/______/______/______/_\n",
            "____/______/______/______/______/_____\"=.o|o_.--\"\"___/______/______/______/____\n",
            "/______/______/______/______/______/______/______/______/______/______/_____ /\n",
            "*******************************************************************************\n",
            "\n",
            "Welcome to Treasure Island.\n",
            "Your mission is to find the treasure.\n",
            "Do you want to go right or left? R/L\n",
            "L\n",
            "Do you want to swim or wait? S/W\n",
            "s\n",
            "You were eaten my shark.\n",
            "GAME OVER\n"
          ]
        }
      ]
    }
  ]
}